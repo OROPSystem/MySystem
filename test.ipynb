{
 "cells": [
  {
   "cell_type": "code",
   "execution_count": 35,
   "metadata": {},
   "outputs": [
    {
     "name": "stdout",
     "output_type": "stream",
     "text": [
      "[4, 4, 4, 4, 4, 4]\n"
     ]
    }
   ],
   "source": [
    "import pandas as pd\n",
    "\n",
    "\n",
    "a = [('./data/train\\\\cat\\\\1.jpg', 0), \n",
    " ('./data/train\\\\cat\\\\2.jpg', 0), \n",
    " ('./data/train\\\\dog\\\\1.jpg', 1),]\n",
    "b = list(zip([i[0] for i in a], [i[1] for i in a], [i[1] for i in a]))\n",
    "pd.DataFrame(b)\n",
    "\n",
    "import torch\n",
    "l = []\n",
    "c = torch.tensor([4,4,4]).cuda()\n",
    "d = torch.tensor([4,4,4]).cuda()\n",
    "l.extend(c.tolist())\n",
    "l.extend(d.tolist())\n",
    "print(l)"
   ]
  },
  {
   "cell_type": "code",
   "execution_count": 2,
   "metadata": {
    "collapsed": true
   },
   "outputs": [],
   "source": [
    "import torch\n",
    "import torch.nn as nn\n",
    "from timm.data import resolve_data_config\n",
    "from timm.data.transforms_factory import create_transform\n",
    "import torchvision.models as models"
   ]
  },
  {
   "cell_type": "code",
   "execution_count": 3,
   "metadata": {
    "collapsed": false,
    "pycharm": {
     "name": "#%%\n"
    }
   },
   "outputs": [
    {
     "name": "stderr",
     "output_type": "stream",
     "text": [
      "Downloading: \"https://download.pytorch.org/models/alexnet-owt-7be5be79.pth\" to C:\\Users\\Lu Liezhi/.cache\\torch\\hub\\checkpoints\\alexnet-owt-7be5be79.pth\n",
      "10.1%IOPub message rate exceeded.\n",
      "The notebook server will temporarily stop sending output\n",
      "to the client in order to avoid crashing it.\n",
      "To change this limit, set the config variable\n",
      "`--NotebookApp.iopub_msg_rate_limit`.\n",
      "\n",
      "Current values:\n",
      "NotebookApp.iopub_msg_rate_limit=1000.0 (msgs/sec)\n",
      "NotebookApp.rate_limit_window=3.0 (secs)\n",
      "\n",
      "25.4%IOPub message rate exceeded.\n",
      "The notebook server will temporarily stop sending output\n",
      "to the client in order to avoid crashing it.\n",
      "To change this limit, set the config variable\n",
      "`--NotebookApp.iopub_msg_rate_limit`.\n",
      "\n",
      "Current values:\n",
      "NotebookApp.iopub_msg_rate_limit=1000.0 (msgs/sec)\n",
      "NotebookApp.rate_limit_window=3.0 (secs)\n",
      "\n",
      "40.6%IOPub message rate exceeded.\n",
      "The notebook server will temporarily stop sending output\n",
      "to the client in order to avoid crashing it.\n",
      "To change this limit, set the config variable\n",
      "`--NotebookApp.iopub_msg_rate_limit`.\n",
      "\n",
      "Current values:\n",
      "NotebookApp.iopub_msg_rate_limit=1000.0 (msgs/sec)\n",
      "NotebookApp.rate_limit_window=3.0 (secs)\n",
      "\n",
      "55.7%IOPub message rate exceeded.\n",
      "The notebook server will temporarily stop sending output\n",
      "to the client in order to avoid crashing it.\n",
      "To change this limit, set the config variable\n",
      "`--NotebookApp.iopub_msg_rate_limit`.\n",
      "\n",
      "Current values:\n",
      "NotebookApp.iopub_msg_rate_limit=1000.0 (msgs/sec)\n",
      "NotebookApp.rate_limit_window=3.0 (secs)\n",
      "\n",
      "71.0%IOPub message rate exceeded.\n",
      "The notebook server will temporarily stop sending output\n",
      "to the client in order to avoid crashing it.\n",
      "To change this limit, set the config variable\n",
      "`--NotebookApp.iopub_msg_rate_limit`.\n",
      "\n",
      "Current values:\n",
      "NotebookApp.iopub_msg_rate_limit=1000.0 (msgs/sec)\n",
      "NotebookApp.rate_limit_window=3.0 (secs)\n",
      "\n",
      "86.1%IOPub message rate exceeded.\n",
      "The notebook server will temporarily stop sending output\n",
      "to the client in order to avoid crashing it.\n",
      "To change this limit, set the config variable\n",
      "`--NotebookApp.iopub_msg_rate_limit`.\n",
      "\n",
      "Current values:\n",
      "NotebookApp.iopub_msg_rate_limit=1000.0 (msgs/sec)\n",
      "NotebookApp.rate_limit_window=3.0 (secs)\n",
      "\n",
      "100.0%\n"
     ]
    }
   ],
   "source": [
    "model = models.alexnet(pretrained=True)"
   ]
  },
  {
   "cell_type": "code",
   "execution_count": 5,
   "metadata": {
    "collapsed": false,
    "pycharm": {
     "name": "#%%\n"
    }
   },
   "outputs": [
    {
     "data": {
      "text/plain": [
       "Compose(\n",
       "    Resize(size=256, interpolation=bicubic, max_size=None, antialias=None)\n",
       "    CenterCrop(size=(224, 224))\n",
       "    ToTensor()\n",
       "    Normalize(mean=tensor([0.4850, 0.4560, 0.4060]), std=tensor([0.2290, 0.2240, 0.2250]))\n",
       ")"
      ]
     },
     "execution_count": 5,
     "metadata": {},
     "output_type": "execute_result"
    }
   ],
   "source": [
    "config = resolve_data_config({}, model=model)\n",
    "transform = create_transform(**config)\n",
    "transform"
   ]
  },
  {
   "cell_type": "code",
   "execution_count": 12,
   "metadata": {},
   "outputs": [
    {
     "data": {
      "text/plain": [
       "odict_keys(['vit.cls_token', 'vit.pos_embed', 'vit.patch_embed.proj.weight', 'vit.patch_embed.proj.bias', 'vit.blocks.0.norm1.weight', 'vit.blocks.0.norm1.bias', 'vit.blocks.0.attn.qkv.weight', 'vit.blocks.0.attn.qkv.bias', 'vit.blocks.0.attn.proj.weight', 'vit.blocks.0.attn.proj.bias', 'vit.blocks.0.norm2.weight', 'vit.blocks.0.norm2.bias', 'vit.blocks.0.mlp.fc1.weight', 'vit.blocks.0.mlp.fc1.bias', 'vit.blocks.0.mlp.fc2.weight', 'vit.blocks.0.mlp.fc2.bias', 'vit.blocks.1.norm1.weight', 'vit.blocks.1.norm1.bias', 'vit.blocks.1.attn.qkv.weight', 'vit.blocks.1.attn.qkv.bias', 'vit.blocks.1.attn.proj.weight', 'vit.blocks.1.attn.proj.bias', 'vit.blocks.1.norm2.weight', 'vit.blocks.1.norm2.bias', 'vit.blocks.1.mlp.fc1.weight', 'vit.blocks.1.mlp.fc1.bias', 'vit.blocks.1.mlp.fc2.weight', 'vit.blocks.1.mlp.fc2.bias', 'vit.blocks.2.norm1.weight', 'vit.blocks.2.norm1.bias', 'vit.blocks.2.attn.qkv.weight', 'vit.blocks.2.attn.qkv.bias', 'vit.blocks.2.attn.proj.weight', 'vit.blocks.2.attn.proj.bias', 'vit.blocks.2.norm2.weight', 'vit.blocks.2.norm2.bias', 'vit.blocks.2.mlp.fc1.weight', 'vit.blocks.2.mlp.fc1.bias', 'vit.blocks.2.mlp.fc2.weight', 'vit.blocks.2.mlp.fc2.bias', 'vit.blocks.3.norm1.weight', 'vit.blocks.3.norm1.bias', 'vit.blocks.3.attn.qkv.weight', 'vit.blocks.3.attn.qkv.bias', 'vit.blocks.3.attn.proj.weight', 'vit.blocks.3.attn.proj.bias', 'vit.blocks.3.norm2.weight', 'vit.blocks.3.norm2.bias', 'vit.blocks.3.mlp.fc1.weight', 'vit.blocks.3.mlp.fc1.bias', 'vit.blocks.3.mlp.fc2.weight', 'vit.blocks.3.mlp.fc2.bias', 'vit.blocks.4.norm1.weight', 'vit.blocks.4.norm1.bias', 'vit.blocks.4.attn.qkv.weight', 'vit.blocks.4.attn.qkv.bias', 'vit.blocks.4.attn.proj.weight', 'vit.blocks.4.attn.proj.bias', 'vit.blocks.4.norm2.weight', 'vit.blocks.4.norm2.bias', 'vit.blocks.4.mlp.fc1.weight', 'vit.blocks.4.mlp.fc1.bias', 'vit.blocks.4.mlp.fc2.weight', 'vit.blocks.4.mlp.fc2.bias', 'vit.blocks.5.norm1.weight', 'vit.blocks.5.norm1.bias', 'vit.blocks.5.attn.qkv.weight', 'vit.blocks.5.attn.qkv.bias', 'vit.blocks.5.attn.proj.weight', 'vit.blocks.5.attn.proj.bias', 'vit.blocks.5.norm2.weight', 'vit.blocks.5.norm2.bias', 'vit.blocks.5.mlp.fc1.weight', 'vit.blocks.5.mlp.fc1.bias', 'vit.blocks.5.mlp.fc2.weight', 'vit.blocks.5.mlp.fc2.bias', 'vit.blocks.6.norm1.weight', 'vit.blocks.6.norm1.bias', 'vit.blocks.6.attn.qkv.weight', 'vit.blocks.6.attn.qkv.bias', 'vit.blocks.6.attn.proj.weight', 'vit.blocks.6.attn.proj.bias', 'vit.blocks.6.norm2.weight', 'vit.blocks.6.norm2.bias', 'vit.blocks.6.mlp.fc1.weight', 'vit.blocks.6.mlp.fc1.bias', 'vit.blocks.6.mlp.fc2.weight', 'vit.blocks.6.mlp.fc2.bias', 'vit.blocks.7.norm1.weight', 'vit.blocks.7.norm1.bias', 'vit.blocks.7.attn.qkv.weight', 'vit.blocks.7.attn.qkv.bias', 'vit.blocks.7.attn.proj.weight', 'vit.blocks.7.attn.proj.bias', 'vit.blocks.7.norm2.weight', 'vit.blocks.7.norm2.bias', 'vit.blocks.7.mlp.fc1.weight', 'vit.blocks.7.mlp.fc1.bias', 'vit.blocks.7.mlp.fc2.weight', 'vit.blocks.7.mlp.fc2.bias', 'vit.blocks.8.norm1.weight', 'vit.blocks.8.norm1.bias', 'vit.blocks.8.attn.qkv.weight', 'vit.blocks.8.attn.qkv.bias', 'vit.blocks.8.attn.proj.weight', 'vit.blocks.8.attn.proj.bias', 'vit.blocks.8.norm2.weight', 'vit.blocks.8.norm2.bias', 'vit.blocks.8.mlp.fc1.weight', 'vit.blocks.8.mlp.fc1.bias', 'vit.blocks.8.mlp.fc2.weight', 'vit.blocks.8.mlp.fc2.bias', 'vit.blocks.9.norm1.weight', 'vit.blocks.9.norm1.bias', 'vit.blocks.9.attn.qkv.weight', 'vit.blocks.9.attn.qkv.bias', 'vit.blocks.9.attn.proj.weight', 'vit.blocks.9.attn.proj.bias', 'vit.blocks.9.norm2.weight', 'vit.blocks.9.norm2.bias', 'vit.blocks.9.mlp.fc1.weight', 'vit.blocks.9.mlp.fc1.bias', 'vit.blocks.9.mlp.fc2.weight', 'vit.blocks.9.mlp.fc2.bias', 'vit.blocks.10.norm1.weight', 'vit.blocks.10.norm1.bias', 'vit.blocks.10.attn.qkv.weight', 'vit.blocks.10.attn.qkv.bias', 'vit.blocks.10.attn.proj.weight', 'vit.blocks.10.attn.proj.bias', 'vit.blocks.10.norm2.weight', 'vit.blocks.10.norm2.bias', 'vit.blocks.10.mlp.fc1.weight', 'vit.blocks.10.mlp.fc1.bias', 'vit.blocks.10.mlp.fc2.weight', 'vit.blocks.10.mlp.fc2.bias', 'vit.blocks.11.norm1.weight', 'vit.blocks.11.norm1.bias', 'vit.blocks.11.attn.qkv.weight', 'vit.blocks.11.attn.qkv.bias', 'vit.blocks.11.attn.proj.weight', 'vit.blocks.11.attn.proj.bias', 'vit.blocks.11.norm2.weight', 'vit.blocks.11.norm2.bias', 'vit.blocks.11.mlp.fc1.weight', 'vit.blocks.11.mlp.fc1.bias', 'vit.blocks.11.mlp.fc2.weight', 'vit.blocks.11.mlp.fc2.bias', 'vit.norm.weight', 'vit.norm.bias', 'vit.head.weight', 'vit.head.bias'])"
      ]
     },
     "execution_count": 12,
     "metadata": {},
     "output_type": "execute_result"
    }
   ],
   "source": [
    "from typing import OrderedDict\n",
    "import torch\n",
    "torch.load(\"/home/user/system/MySystem/user_data/test/models/vit_base_patch16_224_pcb.pth\").keys()"
   ]
  },
  {
   "cell_type": "code",
   "execution_count": 3,
   "metadata": {},
   "outputs": [
    {
     "data": {
      "text/plain": [
       "<All keys matched successfully>"
      ]
     },
     "execution_count": 3,
     "metadata": {},
     "output_type": "execute_result"
    }
   ],
   "source": [
    "import torch\n",
    "from zmq import device\n",
    "from utils.net import ResNets, VITs\n",
    "resnet18 = ResNets()\n",
    "resnet18.load_state_dict(torch.load(\"/home/user/system/MySystem/user_data/test/models/resnet18_pcb.pth\"))\n",
    "resnet18.to(\"cuda:0\")\n",
    "\n",
    "vit = VITs()\n",
    "vit.load_state_dict(torch.load(\"/home/user/system/MySystem/user_data/test/models/vit_base_patch16_224_pcb.pth\"))"
   ]
  }
 ],
 "metadata": {
  "kernelspec": {
   "display_name": "Python 3.8.12 ('system')",
   "language": "python",
   "name": "python3"
  },
  "language_info": {
   "codemirror_mode": {
    "name": "ipython",
    "version": 3
   },
   "file_extension": ".py",
   "mimetype": "text/x-python",
   "name": "python",
   "nbconvert_exporter": "python",
   "pygments_lexer": "ipython3",
   "version": "3.8.12"
  },
  "vscode": {
   "interpreter": {
    "hash": "c1eaa59652c69e74722e8220b08e6f62f7920e77a85f4b375f1f74675f8b9f3b"
   }
  }
 },
 "nbformat": 4,
 "nbformat_minor": 0
}
